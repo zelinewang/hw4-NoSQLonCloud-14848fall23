{
 "cells": [
  {
   "cell_type": "markdown",
   "metadata": {
    "slideshow": {
     "slide_type": "slide"
    }
   },
   "source": [
    "<center><h1>HW4: NoSQL on Cloud</h1></center>"
   ]
  },
  {
   "cell_type": "markdown",
   "metadata": {},
   "source": [
    "To enable to work on cloud, set <b>GOOGLE_APPLICATION_CREDENTIALS</b> with the value as your absolute path to your credentials JSON file and delete Your <b>BIGTABLE_EMULATOR_HOST</b> environment variable and restart your notebook, see [HERE](https://cloud.google.com/bigtable/docs/) for more. \n",
    "```bash\n",
    "unset BIGTABLE_EMULATOR_HOST\n",
    "export GOOGLE_APPLICATION_CREDENTIALS=\"/Users/Administrator1/study/CMU/23fall14848/homework/hw4-NoSQLonCloud/cloud-infrastructure-cluster-2a979a96afbf.json\"\n",
    "```"
   ]
  },
  {
   "cell_type": "code",
   "execution_count": 10,
   "metadata": {
    "vscode": {
     "languageId": "shellscript"
    }
   },
   "outputs": [],
   "source": [
    "!unset BIGTABLE_EMULATOR_HOST\n",
    "!unset GOOGLE_APPLICATION_CREDENTIALS\n",
    "!export GOOGLE_APPLICATION_CREDENTIALS=\"/Users/Administrator1/study/CMU/23fall14848/homework/hw4-NoSQLonCloud/cloud-infrastructure-cluster-2a979a96afbf.json\""
   ]
  },
  {
   "cell_type": "markdown",
   "metadata": {
    "slideshow": {
     "slide_type": "slide"
    }
   },
   "source": [
    "<h2>Install Required Packages</h2>"
   ]
  },
  {
   "cell_type": "code",
   "execution_count": 31,
   "metadata": {
    "slideshow": {
     "slide_type": "fragment"
    }
   },
   "outputs": [
    {
     "name": "stdout",
     "output_type": "stream",
     "text": [
      "Requirement already satisfied: google-cloud-bigtable in /Users/Administrator1/anaconda3/lib/python3.9/site-packages (2.21.0)\n",
      "Requirement already satisfied: google-api-core[grpc]!=2.0.*,!=2.1.*,!=2.10.*,!=2.2.*,!=2.3.*,!=2.4.*,!=2.5.*,!=2.6.*,!=2.7.*,!=2.8.*,!=2.9.*,<3.0.0dev,>=1.34.0 in /Users/Administrator1/anaconda3/lib/python3.9/site-packages (from google-cloud-bigtable) (2.12.0)\n",
      "Requirement already satisfied: grpc-google-iam-v1<1.0.0dev,>=0.12.4 in /Users/Administrator1/anaconda3/lib/python3.9/site-packages (from google-cloud-bigtable) (0.12.6)\n",
      "Requirement already satisfied: proto-plus<2.0.0dev,>=1.22.0 in /Users/Administrator1/anaconda3/lib/python3.9/site-packages (from google-cloud-bigtable) (1.22.3)\n",
      "Collecting protobuf!=3.20.0,!=3.20.1,!=4.21.0,!=4.21.1,!=4.21.2,!=4.21.3,!=4.21.4,!=4.21.5,<5.0.0dev,>=3.19.5\n",
      "  Using cached protobuf-4.24.4-cp37-abi3-macosx_10_9_universal2.whl (409 kB)\n",
      "Requirement already satisfied: google-cloud-core<3.0.0dev,>=1.4.1 in /Users/Administrator1/anaconda3/lib/python3.9/site-packages (from google-cloud-bigtable) (2.2.2)\n",
      "Requirement already satisfied: google-auth<3.0.dev0,>=2.14.1 in /Users/Administrator1/anaconda3/lib/python3.9/site-packages (from google-api-core[grpc]!=2.0.*,!=2.1.*,!=2.10.*,!=2.2.*,!=2.3.*,!=2.4.*,!=2.5.*,!=2.6.*,!=2.7.*,!=2.8.*,!=2.9.*,<3.0.0dev,>=1.34.0->google-cloud-bigtable) (2.23.3)\n",
      "Requirement already satisfied: googleapis-common-protos<2.0.dev0,>=1.56.2 in /Users/Administrator1/anaconda3/lib/python3.9/site-packages (from google-api-core[grpc]!=2.0.*,!=2.1.*,!=2.10.*,!=2.2.*,!=2.3.*,!=2.4.*,!=2.5.*,!=2.6.*,!=2.7.*,!=2.8.*,!=2.9.*,<3.0.0dev,>=1.34.0->google-cloud-bigtable) (1.56.4)\n",
      "Requirement already satisfied: requests<3.0.0.dev0,>=2.18.0 in /Users/Administrator1/anaconda3/lib/python3.9/site-packages (from google-api-core[grpc]!=2.0.*,!=2.1.*,!=2.10.*,!=2.2.*,!=2.3.*,!=2.4.*,!=2.5.*,!=2.6.*,!=2.7.*,!=2.8.*,!=2.9.*,<3.0.0dev,>=1.34.0->google-cloud-bigtable) (2.28.1)\n",
      "Requirement already satisfied: grpcio-status<2.0.dev0,>=1.33.2 in /Users/Administrator1/anaconda3/lib/python3.9/site-packages (from google-api-core[grpc]!=2.0.*,!=2.1.*,!=2.10.*,!=2.2.*,!=2.3.*,!=2.4.*,!=2.5.*,!=2.6.*,!=2.7.*,!=2.8.*,!=2.9.*,<3.0.0dev,>=1.34.0->google-cloud-bigtable) (1.59.0)\n",
      "Requirement already satisfied: grpcio<2.0dev,>=1.33.2 in /Users/Administrator1/anaconda3/lib/python3.9/site-packages (from google-api-core[grpc]!=2.0.*,!=2.1.*,!=2.10.*,!=2.2.*,!=2.3.*,!=2.4.*,!=2.5.*,!=2.6.*,!=2.7.*,!=2.8.*,!=2.9.*,<3.0.0dev,>=1.34.0->google-cloud-bigtable) (1.59.0)\n",
      "Requirement already satisfied: pyasn1-modules>=0.2.1 in /Users/Administrator1/anaconda3/lib/python3.9/site-packages (from google-auth<3.0.dev0,>=2.14.1->google-api-core[grpc]!=2.0.*,!=2.1.*,!=2.10.*,!=2.2.*,!=2.3.*,!=2.4.*,!=2.5.*,!=2.6.*,!=2.7.*,!=2.8.*,!=2.9.*,<3.0.0dev,>=1.34.0->google-cloud-bigtable) (0.2.8)\n",
      "Requirement already satisfied: rsa<5,>=3.1.4 in /Users/Administrator1/anaconda3/lib/python3.9/site-packages (from google-auth<3.0.dev0,>=2.14.1->google-api-core[grpc]!=2.0.*,!=2.1.*,!=2.10.*,!=2.2.*,!=2.3.*,!=2.4.*,!=2.5.*,!=2.6.*,!=2.7.*,!=2.8.*,!=2.9.*,<3.0.0dev,>=1.34.0->google-cloud-bigtable) (4.7.2)\n",
      "Requirement already satisfied: cachetools<6.0,>=2.0.0 in /Users/Administrator1/anaconda3/lib/python3.9/site-packages (from google-auth<3.0.dev0,>=2.14.1->google-api-core[grpc]!=2.0.*,!=2.1.*,!=2.10.*,!=2.2.*,!=2.3.*,!=2.4.*,!=2.5.*,!=2.6.*,!=2.7.*,!=2.8.*,!=2.9.*,<3.0.0dev,>=1.34.0->google-cloud-bigtable) (4.2.2)\n",
      "Requirement already satisfied: certifi>=2017.4.17 in /Users/Administrator1/anaconda3/lib/python3.9/site-packages (from requests<3.0.0.dev0,>=2.18.0->google-api-core[grpc]!=2.0.*,!=2.1.*,!=2.10.*,!=2.2.*,!=2.3.*,!=2.4.*,!=2.5.*,!=2.6.*,!=2.7.*,!=2.8.*,!=2.9.*,<3.0.0dev,>=1.34.0->google-cloud-bigtable) (2022.9.14)\n",
      "Requirement already satisfied: charset-normalizer<3,>=2 in /Users/Administrator1/anaconda3/lib/python3.9/site-packages (from requests<3.0.0.dev0,>=2.18.0->google-api-core[grpc]!=2.0.*,!=2.1.*,!=2.10.*,!=2.2.*,!=2.3.*,!=2.4.*,!=2.5.*,!=2.6.*,!=2.7.*,!=2.8.*,!=2.9.*,<3.0.0dev,>=1.34.0->google-cloud-bigtable) (2.0.4)\n",
      "Requirement already satisfied: idna<4,>=2.5 in /Users/Administrator1/anaconda3/lib/python3.9/site-packages (from requests<3.0.0.dev0,>=2.18.0->google-api-core[grpc]!=2.0.*,!=2.1.*,!=2.10.*,!=2.2.*,!=2.3.*,!=2.4.*,!=2.5.*,!=2.6.*,!=2.7.*,!=2.8.*,!=2.9.*,<3.0.0dev,>=1.34.0->google-cloud-bigtable) (3.3)\n",
      "Requirement already satisfied: urllib3<1.27,>=1.21.1 in /Users/Administrator1/anaconda3/lib/python3.9/site-packages (from requests<3.0.0.dev0,>=2.18.0->google-api-core[grpc]!=2.0.*,!=2.1.*,!=2.10.*,!=2.2.*,!=2.3.*,!=2.4.*,!=2.5.*,!=2.6.*,!=2.7.*,!=2.8.*,!=2.9.*,<3.0.0dev,>=1.34.0->google-cloud-bigtable) (1.26.11)\n",
      "Requirement already satisfied: pyasn1<0.5.0,>=0.4.6 in /Users/Administrator1/anaconda3/lib/python3.9/site-packages (from pyasn1-modules>=0.2.1->google-auth<3.0.dev0,>=2.14.1->google-api-core[grpc]!=2.0.*,!=2.1.*,!=2.10.*,!=2.2.*,!=2.3.*,!=2.4.*,!=2.5.*,!=2.6.*,!=2.7.*,!=2.8.*,!=2.9.*,<3.0.0dev,>=1.34.0->google-cloud-bigtable) (0.4.8)\n",
      "Installing collected packages: protobuf\n",
      "  Attempting uninstall: protobuf\n",
      "    Found existing installation: protobuf 3.8.0\n",
      "    Uninstalling protobuf-3.8.0:\n",
      "      Successfully uninstalled protobuf-3.8.0\n",
      "Successfully installed protobuf-4.24.4\n",
      "Requirement already satisfied: google-cloud-happybase in /Users/Administrator1/anaconda3/lib/python3.9/site-packages (0.33.0)\n",
      "Requirement already satisfied: google-cloud-bigtable>=0.31.0 in /Users/Administrator1/anaconda3/lib/python3.9/site-packages (from google-cloud-happybase) (2.21.0)\n",
      "Requirement already satisfied: google-api-core[grpc]!=2.0.*,!=2.1.*,!=2.10.*,!=2.2.*,!=2.3.*,!=2.4.*,!=2.5.*,!=2.6.*,!=2.7.*,!=2.8.*,!=2.9.*,<3.0.0dev,>=1.34.0 in /Users/Administrator1/anaconda3/lib/python3.9/site-packages (from google-cloud-bigtable>=0.31.0->google-cloud-happybase) (2.12.0)\n",
      "Requirement already satisfied: google-cloud-core<3.0.0dev,>=1.4.1 in /Users/Administrator1/anaconda3/lib/python3.9/site-packages (from google-cloud-bigtable>=0.31.0->google-cloud-happybase) (2.2.2)\n",
      "Requirement already satisfied: protobuf!=3.20.0,!=3.20.1,!=4.21.0,!=4.21.1,!=4.21.2,!=4.21.3,!=4.21.4,!=4.21.5,<5.0.0dev,>=3.19.5 in /Users/Administrator1/anaconda3/lib/python3.9/site-packages (from google-cloud-bigtable>=0.31.0->google-cloud-happybase) (4.24.4)\n",
      "Requirement already satisfied: grpc-google-iam-v1<1.0.0dev,>=0.12.4 in /Users/Administrator1/anaconda3/lib/python3.9/site-packages (from google-cloud-bigtable>=0.31.0->google-cloud-happybase) (0.12.6)\n",
      "Requirement already satisfied: proto-plus<2.0.0dev,>=1.22.0 in /Users/Administrator1/anaconda3/lib/python3.9/site-packages (from google-cloud-bigtable>=0.31.0->google-cloud-happybase) (1.22.3)\n",
      "Requirement already satisfied: google-auth<3.0.dev0,>=2.14.1 in /Users/Administrator1/anaconda3/lib/python3.9/site-packages (from google-api-core[grpc]!=2.0.*,!=2.1.*,!=2.10.*,!=2.2.*,!=2.3.*,!=2.4.*,!=2.5.*,!=2.6.*,!=2.7.*,!=2.8.*,!=2.9.*,<3.0.0dev,>=1.34.0->google-cloud-bigtable>=0.31.0->google-cloud-happybase) (2.23.3)\n",
      "Requirement already satisfied: googleapis-common-protos<2.0.dev0,>=1.56.2 in /Users/Administrator1/anaconda3/lib/python3.9/site-packages (from google-api-core[grpc]!=2.0.*,!=2.1.*,!=2.10.*,!=2.2.*,!=2.3.*,!=2.4.*,!=2.5.*,!=2.6.*,!=2.7.*,!=2.8.*,!=2.9.*,<3.0.0dev,>=1.34.0->google-cloud-bigtable>=0.31.0->google-cloud-happybase) (1.56.4)\n",
      "Requirement already satisfied: requests<3.0.0.dev0,>=2.18.0 in /Users/Administrator1/anaconda3/lib/python3.9/site-packages (from google-api-core[grpc]!=2.0.*,!=2.1.*,!=2.10.*,!=2.2.*,!=2.3.*,!=2.4.*,!=2.5.*,!=2.6.*,!=2.7.*,!=2.8.*,!=2.9.*,<3.0.0dev,>=1.34.0->google-cloud-bigtable>=0.31.0->google-cloud-happybase) (2.28.1)\n",
      "Requirement already satisfied: grpcio<2.0dev,>=1.33.2 in /Users/Administrator1/anaconda3/lib/python3.9/site-packages (from google-api-core[grpc]!=2.0.*,!=2.1.*,!=2.10.*,!=2.2.*,!=2.3.*,!=2.4.*,!=2.5.*,!=2.6.*,!=2.7.*,!=2.8.*,!=2.9.*,<3.0.0dev,>=1.34.0->google-cloud-bigtable>=0.31.0->google-cloud-happybase) (1.59.0)\n",
      "Requirement already satisfied: grpcio-status<2.0.dev0,>=1.33.2 in /Users/Administrator1/anaconda3/lib/python3.9/site-packages (from google-api-core[grpc]!=2.0.*,!=2.1.*,!=2.10.*,!=2.2.*,!=2.3.*,!=2.4.*,!=2.5.*,!=2.6.*,!=2.7.*,!=2.8.*,!=2.9.*,<3.0.0dev,>=1.34.0->google-cloud-bigtable>=0.31.0->google-cloud-happybase) (1.59.0)\n",
      "Requirement already satisfied: pyasn1-modules>=0.2.1 in /Users/Administrator1/anaconda3/lib/python3.9/site-packages (from google-auth<3.0.dev0,>=2.14.1->google-api-core[grpc]!=2.0.*,!=2.1.*,!=2.10.*,!=2.2.*,!=2.3.*,!=2.4.*,!=2.5.*,!=2.6.*,!=2.7.*,!=2.8.*,!=2.9.*,<3.0.0dev,>=1.34.0->google-cloud-bigtable>=0.31.0->google-cloud-happybase) (0.2.8)\n",
      "Requirement already satisfied: cachetools<6.0,>=2.0.0 in /Users/Administrator1/anaconda3/lib/python3.9/site-packages (from google-auth<3.0.dev0,>=2.14.1->google-api-core[grpc]!=2.0.*,!=2.1.*,!=2.10.*,!=2.2.*,!=2.3.*,!=2.4.*,!=2.5.*,!=2.6.*,!=2.7.*,!=2.8.*,!=2.9.*,<3.0.0dev,>=1.34.0->google-cloud-bigtable>=0.31.0->google-cloud-happybase) (4.2.2)\n",
      "Requirement already satisfied: rsa<5,>=3.1.4 in /Users/Administrator1/anaconda3/lib/python3.9/site-packages (from google-auth<3.0.dev0,>=2.14.1->google-api-core[grpc]!=2.0.*,!=2.1.*,!=2.10.*,!=2.2.*,!=2.3.*,!=2.4.*,!=2.5.*,!=2.6.*,!=2.7.*,!=2.8.*,!=2.9.*,<3.0.0dev,>=1.34.0->google-cloud-bigtable>=0.31.0->google-cloud-happybase) (4.7.2)\n",
      "Requirement already satisfied: urllib3<1.27,>=1.21.1 in /Users/Administrator1/anaconda3/lib/python3.9/site-packages (from requests<3.0.0.dev0,>=2.18.0->google-api-core[grpc]!=2.0.*,!=2.1.*,!=2.10.*,!=2.2.*,!=2.3.*,!=2.4.*,!=2.5.*,!=2.6.*,!=2.7.*,!=2.8.*,!=2.9.*,<3.0.0dev,>=1.34.0->google-cloud-bigtable>=0.31.0->google-cloud-happybase) (1.26.11)\n",
      "Requirement already satisfied: certifi>=2017.4.17 in /Users/Administrator1/anaconda3/lib/python3.9/site-packages (from requests<3.0.0.dev0,>=2.18.0->google-api-core[grpc]!=2.0.*,!=2.1.*,!=2.10.*,!=2.2.*,!=2.3.*,!=2.4.*,!=2.5.*,!=2.6.*,!=2.7.*,!=2.8.*,!=2.9.*,<3.0.0dev,>=1.34.0->google-cloud-bigtable>=0.31.0->google-cloud-happybase) (2022.9.14)\n",
      "Requirement already satisfied: idna<4,>=2.5 in /Users/Administrator1/anaconda3/lib/python3.9/site-packages (from requests<3.0.0.dev0,>=2.18.0->google-api-core[grpc]!=2.0.*,!=2.1.*,!=2.10.*,!=2.2.*,!=2.3.*,!=2.4.*,!=2.5.*,!=2.6.*,!=2.7.*,!=2.8.*,!=2.9.*,<3.0.0dev,>=1.34.0->google-cloud-bigtable>=0.31.0->google-cloud-happybase) (3.3)\n",
      "Requirement already satisfied: charset-normalizer<3,>=2 in /Users/Administrator1/anaconda3/lib/python3.9/site-packages (from requests<3.0.0.dev0,>=2.18.0->google-api-core[grpc]!=2.0.*,!=2.1.*,!=2.10.*,!=2.2.*,!=2.3.*,!=2.4.*,!=2.5.*,!=2.6.*,!=2.7.*,!=2.8.*,!=2.9.*,<3.0.0dev,>=1.34.0->google-cloud-bigtable>=0.31.0->google-cloud-happybase) (2.0.4)\n",
      "Requirement already satisfied: pyasn1<0.5.0,>=0.4.6 in /Users/Administrator1/anaconda3/lib/python3.9/site-packages (from pyasn1-modules>=0.2.1->google-auth<3.0.dev0,>=2.14.1->google-api-core[grpc]!=2.0.*,!=2.1.*,!=2.10.*,!=2.2.*,!=2.3.*,!=2.4.*,!=2.5.*,!=2.6.*,!=2.7.*,!=2.8.*,!=2.9.*,<3.0.0dev,>=1.34.0->google-cloud-bigtable>=0.31.0->google-cloud-happybase) (0.4.8)\n"
     ]
    }
   ],
   "source": [
    "!pip install google-cloud-bigtable\n",
    "!pip install google-cloud-happybase"
   ]
  },
  {
   "cell_type": "markdown",
   "metadata": {
    "slideshow": {
     "slide_type": "slide"
    }
   },
   "source": [
    "<h2>Initialize the Application</h2>"
   ]
  },
  {
   "cell_type": "code",
   "execution_count": 11,
   "metadata": {
    "slideshow": {
     "slide_type": "fragment"
    }
   },
   "outputs": [],
   "source": [
    "from google.cloud import bigtable\n",
    "from google.cloud import happybase\n",
    "from google.cloud.bigtable import column_family\n",
    "\n",
    "#Populate project_id and instance_id if you are running on the cloud\n",
    "project_id = \"cloud-infrastructure-cluster\"\n",
    "instance_id = \"bigtablehw4\"\n",
    "\n",
    "client = bigtable.Client(project=project_id, admin=True)\n",
    "instance = client.instance(instance_id)\n"
   ]
  },
  {
   "cell_type": "markdown",
   "metadata": {
    "slideshow": {
     "slide_type": "slide"
    }
   },
   "source": [
    "<h2>Create Tables</h2>"
   ]
  },
  {
   "cell_type": "markdown",
   "metadata": {},
   "source": [
    "Create the table for the data of our sensor.  \n",
    "Note that the data contains three different versions of sensor we used to capture different weather related information.  \n",
    "\n",
    "Create the column family for all the weather related information readings.  \n",
    "\n",
    "Hint: an efficient way to optimize your data storage starts with grouping and dividing your dataset into a set of columns.   \n",
    "It would better for us to store the columns \"Model_Used\" and the \"Notes\" as a same column family \"sensortype\", and store \"Humidity_Percentage\", \"Temperature_in_Fahrenheit\", \"Wind_Speed_in_mph\", \"Wind_Direction\" as in a same family \"weatherinfo\"\n",
    "\n",
    "Hint: to delete the table: \n",
    "```\n",
    "print(\"Deleting the {} table.\".format(table_id))\n",
    "table.delete()\n",
    "```\n",
    "\n",
    "Hint: The GC policies for column family is for garbage collection. It restricts that there shouldn't be too much data of different timestamp versions of one cell. So GC makes sure how column families would automatically clear the \"garbage\".  "
   ]
  },
  {
   "cell_type": "code",
   "execution_count": 19,
   "metadata": {
    "slideshow": {
     "slide_type": "fragment"
    }
   },
   "outputs": [
    {
     "name": "stdout",
     "output_type": "stream",
     "text": [
      "Creating the sensor table.\n",
      "Creating column family readingsection with Max Version GC rule...\n",
      "Table sensor already exists.\n"
     ]
    }
   ],
   "source": [
    "table_id = 'sensor'\n",
    "print(\"Creating the {} table.\".format(table_id))\n",
    "table = instance.table(table_id)\n",
    "\n",
    "print(\"Creating column family readingsection with Max Version GC rule...\")\n",
    "# Create a column family with GC policy : most recent N versions\n",
    "# Define the GC policy to retain only the most recent 2 versions\n",
    "max_versions_rule = column_family.MaxVersionsGCRule(2)\n",
    "column_family_ids = [\"sensortype\", \"weatherinfo\"]\n",
    "column_families = {cf_id: max_versions_rule for cf_id in column_family_ids} \n",
    "if not table.exists():\n",
    "    table.create(column_families=column_families)\n",
    "else:\n",
    "    print(\"Table {} already exists.\".format(table_id))\n",
    "    # print(\"Deleting the {} table.\".format(table_id))\n",
    "    # table.delete()\n"
   ]
  },
  {
   "cell_type": "markdown",
   "metadata": {
    "slideshow": {
     "slide_type": "slide"
    }
   },
   "source": [
    "<h2>Insert Rows into Tables</h2>"
   ]
  },
  {
   "cell_type": "markdown",
   "metadata": {},
   "source": [
    "Insert the data readings into this created table.  \n",
    "Use Pandas library for Python to read the data from the CSVs.  \n",
    "\n",
    "The data source is \"sersor.csv\".  \n",
    "\n",
    "Hint: don't store any N/A values in the database table.\n",
    "\n",
    "Solution should be scalable to handle as many records as possible as long as they belong to one of the sensor models identified earlier. So I added `if row['Model_Used'] in MODELS:` to check if the model_used in future records are one of the models we identified (\"modnist-sensor\", \"mednist-sensor\", \"oldnist-sensor\")"
   ]
  },
  {
   "cell_type": "code",
   "execution_count": 18,
   "metadata": {},
   "outputs": [
    {
     "name": "stdout",
     "output_type": "stream",
     "text": [
      "Requirement already satisfied: pandas in /Users/Administrator1/anaconda3/lib/python3.9/site-packages (1.4.4)\n",
      "Requirement already satisfied: python-dateutil>=2.8.1 in /Users/Administrator1/anaconda3/lib/python3.9/site-packages (from pandas) (2.8.2)\n",
      "Requirement already satisfied: pytz>=2020.1 in /Users/Administrator1/anaconda3/lib/python3.9/site-packages (from pandas) (2022.1)\n",
      "Requirement already satisfied: numpy>=1.18.5 in /Users/Administrator1/anaconda3/lib/python3.9/site-packages (from pandas) (1.21.5)\n",
      "Requirement already satisfied: six>=1.5 in /Users/Administrator1/anaconda3/lib/python3.9/site-packages (from python-dateutil>=2.8.1->pandas) (1.16.0)\n"
     ]
    }
   ],
   "source": [
    "!pip install pandas"
   ]
  },
  {
   "cell_type": "code",
   "execution_count": 20,
   "metadata": {},
   "outputs": [
    {
     "name": "stdout",
     "output_type": "stream",
     "text": [
      "Writing some reading types to the table.\n"
     ]
    },
    {
     "data": {
      "text/html": [
       "<div>\n",
       "<style scoped>\n",
       "    .dataframe tbody tr th:only-of-type {\n",
       "        vertical-align: middle;\n",
       "    }\n",
       "\n",
       "    .dataframe tbody tr th {\n",
       "        vertical-align: top;\n",
       "    }\n",
       "\n",
       "    .dataframe thead th {\n",
       "        text-align: right;\n",
       "    }\n",
       "</style>\n",
       "<table border=\"1\" class=\"dataframe\">\n",
       "  <thead>\n",
       "    <tr style=\"text-align: right;\">\n",
       "      <th></th>\n",
       "      <th>Sensor_ID</th>\n",
       "      <th>Model_Used</th>\n",
       "      <th>Notes</th>\n",
       "      <th>Humidity_Percentage</th>\n",
       "      <th>Temperature_in_Fahrenheit</th>\n",
       "      <th>Wind_Speed_in_mph</th>\n",
       "      <th>Wind_Direction</th>\n",
       "    </tr>\n",
       "  </thead>\n",
       "  <tbody>\n",
       "    <tr>\n",
       "      <th>0</th>\n",
       "      <td>AAAAAA</td>\n",
       "      <td>modnist-sensor</td>\n",
       "      <td>newer type of sensor</td>\n",
       "      <td>50%</td>\n",
       "      <td>45 F</td>\n",
       "      <td>4 mph</td>\n",
       "      <td>NW</td>\n",
       "    </tr>\n",
       "    <tr>\n",
       "      <th>1</th>\n",
       "      <td>AAAAAB</td>\n",
       "      <td>mednist-sensor</td>\n",
       "      <td>our mid-age quality sensor</td>\n",
       "      <td>40%</td>\n",
       "      <td>NaN</td>\n",
       "      <td>5 mph</td>\n",
       "      <td>SW</td>\n",
       "    </tr>\n",
       "    <tr>\n",
       "      <th>2</th>\n",
       "      <td>AAAAAC</td>\n",
       "      <td>oldnist-sensor</td>\n",
       "      <td>our oldest sensor</td>\n",
       "      <td>80%</td>\n",
       "      <td>NaN</td>\n",
       "      <td>NaN</td>\n",
       "      <td>NaN</td>\n",
       "    </tr>\n",
       "    <tr>\n",
       "      <th>3</th>\n",
       "      <td>AAAAAD</td>\n",
       "      <td>modnist-sensor</td>\n",
       "      <td>newer type of sensor</td>\n",
       "      <td>90%</td>\n",
       "      <td>95 F</td>\n",
       "      <td>2 mph</td>\n",
       "      <td>NE</td>\n",
       "    </tr>\n",
       "    <tr>\n",
       "      <th>4</th>\n",
       "      <td>AAAAAE</td>\n",
       "      <td>mednist-sensor</td>\n",
       "      <td>our mid-age quality sensor</td>\n",
       "      <td>40%</td>\n",
       "      <td>NaN</td>\n",
       "      <td>7 mph</td>\n",
       "      <td>SW</td>\n",
       "    </tr>\n",
       "  </tbody>\n",
       "</table>\n",
       "</div>"
      ],
      "text/plain": [
       "  Sensor_ID      Model_Used                       Notes Humidity_Percentage  \\\n",
       "0    AAAAAA  modnist-sensor       newer type of sensor                  50%   \n",
       "1    AAAAAB  mednist-sensor  our mid-age quality sensor                 40%   \n",
       "2    AAAAAC  oldnist-sensor           our oldest sensor                 80%   \n",
       "3    AAAAAD  modnist-sensor       newer type of sensor                  90%   \n",
       "4    AAAAAE  mednist-sensor  our mid-age quality sensor                 40%   \n",
       "\n",
       "  Temperature_in_Fahrenheit Wind_Speed_in_mph Wind_Direction  \n",
       "0                      45 F             4 mph             NW  \n",
       "1                       NaN             5 mph             SW  \n",
       "2                       NaN               NaN            NaN  \n",
       "3                      95 F             2 mph             NE  \n",
       "4                       NaN             7 mph             SW  "
      ]
     },
     "execution_count": 20,
     "metadata": {},
     "output_type": "execute_result"
    }
   ],
   "source": [
    "import pandas as pd\n",
    "\n",
    "file_path = 'sensors.csv'\n",
    "\n",
    "# Step 1: Read CSV into DataFrame\n",
    "df = pd.read_csv(file_path)\n",
    "print(\"Writing some reading types to the table.\")\n",
    "df.head(5)"
   ]
  },
  {
   "cell_type": "code",
   "execution_count": 21,
   "metadata": {
    "slideshow": {
     "slide_type": "fragment"
    }
   },
   "outputs": [
    {
     "data": {
      "text/plain": [
       "[, , , , , , , , , , , , , ]"
      ]
     },
     "execution_count": 21,
     "metadata": {},
     "output_type": "execute_result"
    }
   ],
   "source": [
    "import datetime\n",
    "\n",
    "# Define column families\n",
    "sensor_type_family = \"sensortype\"\n",
    "weather_info_family = \"weatherinfo\"\n",
    "\n",
    "# Hardcoded column headers and model names\n",
    "SENSOR_COLUMNS = [\"Model_Used\", \"Notes\"]\n",
    "WEATHER_COLUMNS = [\"Humidity_Percentage\", \"Temperature_in_Fahrenheit\", \"Wind_Speed_in_mph\", \"Wind_Direction\"]\n",
    "MODELS = [\"modnist-sensor\", \"mednist-sensor\", \"oldnist-sensor\"]\n",
    "\n",
    "rows = []\n",
    "\n",
    "# 2. Iterate over DataFrame rows\n",
    "for _, row in df.iterrows():\n",
    "    # Given that Sensor_ID is unique, \n",
    "    # it's appropriate to use it as the row key\n",
    "    row_key = row['Sensor_ID'].encode()\n",
    "\n",
    "    # Check if model is one of the known models; according to the requirment\n",
    "    if row['Model_Used'] in MODELS:\n",
    "        # initialize a row with this key\n",
    "        bigtable_row = table.direct_row(row_key)\n",
    "        \n",
    "        # Setting cells for 'sensortype' column family\n",
    "        for col in SENSOR_COLUMNS:\n",
    "            # Checking if the value is not NaN and is not 'N/A'\n",
    "            if pd.notna(row[col]) and row[col] != 'N/A': \n",
    "                bigtable_row.set_cell(\n",
    "                    sensor_type_family,\n",
    "                    col.encode(),\n",
    "                    row[col].encode(),\n",
    "                    timestamp=datetime.datetime.utcnow()\n",
    "                )\n",
    "\n",
    "        # Setting cells for 'weatherinfo' column family\n",
    "        for col in WEATHER_COLUMNS:\n",
    "            # Checking if the value is not NaN and is not 'N/A'\n",
    "            if pd.notna(row[col]) and row[col] != 'N/A':\n",
    "                bigtable_row.set_cell(\n",
    "                    weather_info_family,\n",
    "                    col.encode(),\n",
    "                    row[col].encode(),\n",
    "                    timestamp=datetime.datetime.utcnow()\n",
    "                )\n",
    "        rows.append(bigtable_row)\n",
    "# insert rows\n",
    "# 3. Write the constructed rows to Bigtable\n",
    "table.mutate_rows(rows)"
   ]
  },
  {
   "cell_type": "markdown",
   "metadata": {
    "slideshow": {
     "slide_type": "slide"
    }
   },
   "source": [
    "<h2>Find a single Element in the Table</h2>"
   ]
  },
  {
   "cell_type": "markdown",
   "metadata": {},
   "source": [
    "Hint: The `row_filter` in Bigtable can be used to apply certain conditions when querying rows. For instance, if we want to limit the number of cells returned per column or only want to see cells from a certain time range, `row_filter` can be handy."
   ]
  },
  {
   "cell_type": "markdown",
   "metadata": {
    "slideshow": {
     "slide_type": "slide"
    }
   },
   "source": [
    "<h2>Retrieve All Rows in BigTable Table!</h2>"
   ]
  },
  {
   "cell_type": "code",
   "execution_count": 27,
   "metadata": {
    "slideshow": {
     "slide_type": "fragment"
    }
   },
   "outputs": [
    {
     "name": "stdout",
     "output_type": "stream",
     "text": [
      "Scanning for all sensors:\n",
      "Reading data for AAAAAA:\n",
      "Model_Used: modnist-sensor @2023-10-13 01:22:55.395000+00:00\n",
      "Notes: newer type of sensor  @2023-10-13 01:22:55.396000+00:00\n",
      "Humidity_Percentage: 50% @2023-10-13 01:22:55.396000+00:00\n",
      "Temperature_in_Fahrenheit: 45 F @2023-10-13 01:22:55.396000+00:00\n",
      "Wind_Direction: NW @2023-10-13 01:22:55.396000+00:00\n",
      "Wind_Speed_in_mph: 4 mph @2023-10-13 01:22:55.396000+00:00\n",
      "\n",
      "Reading data for AAAAAB:\n",
      "Model_Used: mednist-sensor @2023-10-13 01:22:55.397000+00:00\n",
      "Notes: our mid-age quality sensor @2023-10-13 01:22:55.397000+00:00\n",
      "Humidity_Percentage: 40% @2023-10-13 01:22:55.397000+00:00\n",
      "Wind_Direction: SW @2023-10-13 01:22:55.397000+00:00\n",
      "Wind_Speed_in_mph: 5 mph @2023-10-13 01:22:55.397000+00:00\n",
      "\n",
      "Reading data for AAAAAC:\n",
      "Model_Used: oldnist-sensor @2023-10-13 01:22:55.397000+00:00\n",
      "Notes: our oldest sensor @2023-10-13 01:22:55.397000+00:00\n",
      "Humidity_Percentage: 80% @2023-10-13 01:22:55.397000+00:00\n",
      "\n",
      "Reading data for AAAAAD:\n",
      "Model_Used: modnist-sensor @2023-10-13 01:22:55.397000+00:00\n",
      "Notes: newer type of sensor  @2023-10-13 01:22:55.397000+00:00\n",
      "Humidity_Percentage: 90% @2023-10-13 01:22:55.397000+00:00\n",
      "Temperature_in_Fahrenheit: 95 F @2023-10-13 01:22:55.397000+00:00\n",
      "Wind_Direction: NE @2023-10-13 01:22:55.398000+00:00\n",
      "Wind_Speed_in_mph: 2 mph @2023-10-13 01:22:55.397000+00:00\n",
      "\n",
      "Reading data for AAAAAE:\n",
      "Model_Used: mednist-sensor @2023-10-13 01:22:55.398000+00:00\n",
      "Notes: our mid-age quality sensor @2023-10-13 01:22:55.398000+00:00\n",
      "Humidity_Percentage: 40% @2023-10-13 01:22:55.398000+00:00\n",
      "Wind_Direction: SW @2023-10-13 01:22:55.398000+00:00\n",
      "Wind_Speed_in_mph: 7 mph @2023-10-13 01:22:55.398000+00:00\n",
      "\n",
      "Reading data for AAAAAF:\n",
      "Model_Used: mednist-sensor @2023-10-13 01:22:55.398000+00:00\n",
      "Notes: our mid-age quality sensor @2023-10-13 01:22:55.398000+00:00\n",
      "Humidity_Percentage: 70% @2023-10-13 01:22:55.398000+00:00\n",
      "Wind_Direction: SW @2023-10-13 01:22:55.398000+00:00\n",
      "Wind_Speed_in_mph: 8 mph @2023-10-13 01:22:55.398000+00:00\n",
      "\n",
      "Reading data for AAAAAG:\n",
      "Model_Used: mednist-sensor @2023-10-13 01:22:55.398000+00:00\n",
      "Notes: our mid-age quality sensor @2023-10-13 01:22:55.398000+00:00\n",
      "Humidity_Percentage: 80% @2023-10-13 01:22:55.398000+00:00\n",
      "Wind_Direction: NW @2023-10-13 01:22:55.399000+00:00\n",
      "Wind_Speed_in_mph: 1 mph @2023-10-13 01:22:55.399000+00:00\n",
      "\n",
      "Reading data for AAAAAH:\n",
      "Model_Used: mednist-sensor @2023-10-13 01:22:55.399000+00:00\n",
      "Notes: our mid-age quality sensor @2023-10-13 01:22:55.399000+00:00\n",
      "Humidity_Percentage: 10% @2023-10-13 01:22:55.399000+00:00\n",
      "Wind_Direction: NE @2023-10-13 01:22:55.399000+00:00\n",
      "Wind_Speed_in_mph: 2 mph @2023-10-13 01:22:55.399000+00:00\n",
      "\n",
      "Reading data for AAAAAI:\n",
      "Model_Used: mednist-sensor @2023-10-13 01:22:55.399000+00:00\n",
      "Notes: our mid-age quality sensor @2023-10-13 01:22:55.399000+00:00\n",
      "Humidity_Percentage: 20% @2023-10-13 01:22:55.399000+00:00\n",
      "Wind_Direction: SE @2023-10-13 01:22:55.399000+00:00\n",
      "Wind_Speed_in_mph: 10 mph @2023-10-13 01:22:55.399000+00:00\n",
      "\n",
      "Reading data for AAAAAJ:\n",
      "Model_Used: mednist-sensor @2023-10-13 01:22:55.399000+00:00\n",
      "Notes: our mid-age quality sensor @2023-10-13 01:22:55.399000+00:00\n",
      "Humidity_Percentage: 10% @2023-10-13 01:22:55.399000+00:00\n",
      "Wind_Direction: NW @2023-10-13 01:22:55.400000+00:00\n",
      "Wind_Speed_in_mph: 2 mph @2023-10-13 01:22:55.400000+00:00\n",
      "\n",
      "Reading data for AAAAAK:\n",
      "Model_Used: oldnist-sensor @2023-10-13 01:22:55.400000+00:00\n",
      "Notes: our oldest sensor @2023-10-13 01:22:55.400000+00:00\n",
      "Humidity_Percentage: 10% @2023-10-13 01:22:55.400000+00:00\n",
      "\n",
      "Reading data for AAAAAL:\n",
      "Model_Used: oldnist-sensor @2023-10-13 01:22:55.400000+00:00\n",
      "Notes: our oldest sensor @2023-10-13 01:22:55.400000+00:00\n",
      "Humidity_Percentage: 15% @2023-10-13 01:22:55.400000+00:00\n",
      "\n",
      "Reading data for AAAAAM:\n",
      "Model_Used: oldnist-sensor @2023-10-13 01:22:55.400000+00:00\n",
      "Notes: our oldest sensor @2023-10-13 01:22:55.400000+00:00\n",
      "Humidity_Percentage: 18% @2023-10-13 01:22:55.400000+00:00\n",
      "\n",
      "Reading data for AAAAAN:\n",
      "Model_Used: oldnist-sensor @2023-10-13 01:22:55.400000+00:00\n",
      "Notes: our oldest sensor @2023-10-13 01:22:55.400000+00:00\n",
      "Humidity_Percentage: 13% @2023-10-13 01:22:55.400000+00:00\n",
      "\n"
     ]
    }
   ],
   "source": [
    "print(\"Scanning for all sensors:\")\n",
    "partial_rows = table.read_rows()\n",
    "\n",
    "# Loop through all the rows fetched\n",
    "for row in partial_rows:\n",
    "    # Print the key for each row (which represents the Sensor_ID)\n",
    "    print(f\"Reading data for {row.row_key.decode('utf-8')}:\")\n",
    "    \n",
    "    # Loop through each column family and their columns in the row\n",
    "    for column_family_id, columns in row.cells.items():\n",
    "        for column, cell_list in columns.items():\n",
    "            # Get the most recent cell from the list of cells\n",
    "            cell = cell_list[0]\n",
    "            # Print the column name and its value along with timestamp\n",
    "            print(f\"{column.decode('utf-8')}: {cell.value.decode('utf-8')} @{cell.timestamp}\")\n",
    "    print()  # Print a newline for better separation between rows\n"
   ]
  },
  {
   "cell_type": "markdown",
   "metadata": {
    "slideshow": {
     "slide_type": "slide"
    }
   },
   "source": [
    "<h2>Delete Tables</h2>"
   ]
  },
  {
   "cell_type": "code",
   "execution_count": null,
   "metadata": {
    "slideshow": {
     "slide_type": "fragment"
    }
   },
   "outputs": [],
   "source": [
    "print(\"Deleting the {} table.\".format(table_id))\n",
    "table.delete()"
   ]
  },
  {
   "cell_type": "markdown",
   "metadata": {
    "slideshow": {
     "slide_type": "slide"
    }
   },
   "source": [
    "<h3>Read the Example for More Inforamtion <a href=\"https://cloud.google.com/bigtable/docs/samples-python-hello\">https://cloud.google.com/bigtable/docs/samples-python-hello</a></h3>"
   ]
  }
 ],
 "metadata": {
  "celltoolbar": "Slideshow",
  "kernelspec": {
   "display_name": "Python 3 (ipykernel)",
   "language": "python",
   "name": "python3"
  },
  "language_info": {
   "codemirror_mode": {
    "name": "ipython",
    "version": 3
   },
   "file_extension": ".py",
   "mimetype": "text/x-python",
   "name": "python",
   "nbconvert_exporter": "python",
   "pygments_lexer": "ipython3",
   "version": "3.9.13"
  }
 },
 "nbformat": 4,
 "nbformat_minor": 4
}
