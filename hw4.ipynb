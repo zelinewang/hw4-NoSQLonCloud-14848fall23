{
 "cells": [
  {
   "cell_type": "markdown",
   "metadata": {
    "slideshow": {
     "slide_type": "slide"
    }
   },
   "source": [
    "<center><h1>HW4: NoSQL on Cloud</h1></center>"
   ]
  },
  {
   "cell_type": "markdown",
   "metadata": {
    "slideshow": {
     "slide_type": "slide"
    }
   },
   "source": [
    "<h2>Install Required Packages</h2>"
   ]
  },
  {
   "cell_type": "code",
   "execution_count": null,
   "metadata": {
    "slideshow": {
     "slide_type": "fragment"
    }
   },
   "outputs": [],
   "source": [
    "!pip install google-cloud-bigtable\n",
    "!pip install google-cloud-happybase"
   ]
  },
  {
   "cell_type": "markdown",
   "metadata": {
    "slideshow": {
     "slide_type": "slide"
    }
   },
   "source": [
    "<h2>Initialize the Application</h2>"
   ]
  },
  {
   "cell_type": "code",
   "execution_count": null,
   "metadata": {
    "slideshow": {
     "slide_type": "fragment"
    }
   },
   "outputs": [],
   "source": [
    "from google.cloud import bigtable\n",
    "from google.cloud import happybase\n",
    "from google.cloud.bigtable import column_family\n",
    "\n",
    "#Populate project_id and instance_id if you are running on the cloud\n",
    "project_id = \"\"\n",
    "instance_id = \"\"\n",
    "\n",
    "client = bigtable.Client(project=project_id, admin=True)\n",
    "instance = client.instance(instance_id)\n"
   ]
  },
  {
   "cell_type": "markdown",
   "metadata": {
    "slideshow": {
     "slide_type": "slide"
    }
   },
   "source": [
    "<h2>Create Tables</h2>"
   ]
  },
  {
   "cell_type": "code",
   "execution_count": null,
   "metadata": {
    "slideshow": {
     "slide_type": "fragment"
    }
   },
   "outputs": [],
   "source": [
    "table_id = 'test'\n",
    "print(\"Creating the {} table.\".format(table_id))\n",
    "table = instance.table(table_id)\n",
    "\n",
    "print(\"Creating column family readingsection with Max Version GC rule...\")\n",
    "# Create a column family with GC policy : most recent N versions\n",
    "# Define the GC policy to retain only the most recent 2 versions\n",
    "max_versions_rule = column_family.MaxVersionsGCRule(2)\n",
    "column_family_id = \"readingsection\"\n",
    "column_families = {column_family_id: max_versions_rule}\n",
    "if not table.exists():\n",
    "    table.create(column_families=column_families)\n",
    "else:\n",
    "    print(\"Table {} already exists.\".format(table_id))\n"
   ]
  },
  {
   "cell_type": "markdown",
   "metadata": {
    "slideshow": {
     "slide_type": "slide"
    }
   },
   "source": [
    "<h2>Insert Rows into Tables</h2>"
   ]
  },
  {
   "cell_type": "code",
   "execution_count": null,
   "metadata": {
    "slideshow": {
     "slide_type": "fragment"
    }
   },
   "outputs": [],
   "source": [
    "import datetime\n",
    "\n",
    "print(\"Writing some reading types to the table.\")\n",
    "elements = [\"Book\", \"Notebook\", \"Newspaper\", \"Journal\"]\n",
    "values = [\"Intro to Java\", \"Jupyter Notebook\", \"New York Post\", \"IEEE\"]\n",
    "rows = []\n",
    "column = \"readings\".encode()\n",
    "for i, text in enumerate(elements):\n",
    "    # All elements should be encoded\n",
    "    row_key = text.encode()\n",
    "    value = values[i].encode()\n",
    "    # initialize a row with this key\n",
    "    row = table.direct_row(row_key)\n",
    "    # create a cell using the 4 pieces of data\n",
    "    row.set_cell(\n",
    "        column_family_id, column, value, timestamp=datetime.datetime.utcnow()\n",
    "    )\n",
    "    rows.append(row)\n",
    "# insert rows\n",
    "table.mutate_rows(rows)"
   ]
  },
  {
   "cell_type": "markdown",
   "metadata": {
    "slideshow": {
     "slide_type": "slide"
    }
   },
   "source": [
    "<h2>Find a single Element in the Table</h2>"
   ]
  },
  {
   "cell_type": "code",
   "execution_count": null,
   "metadata": {
    "slideshow": {
     "slide_type": "fragment"
    }
   },
   "outputs": [],
   "source": [
    "from google.cloud.bigtable import row_filters\n",
    "\n",
    "row_filter = row_filters.CellsColumnLimitFilter(1)\n",
    "\n",
    "\n",
    "print('Getting a single element by row key.')\n",
    "key = 'Book'.encode()\n",
    "\n",
    "row = table.read_row(key, row_filter)\n",
    "cell = row.cells[column_family_id][column][0]\n",
    "print(cell.value.decode('utf-8'))\n"
   ]
  },
  {
   "cell_type": "markdown",
   "metadata": {
    "slideshow": {
     "slide_type": "slide"
    }
   },
   "source": [
    "<h2>Retrieve All Rows in BigTable Table!</h2>"
   ]
  },
  {
   "cell_type": "code",
   "execution_count": null,
   "metadata": {
    "slideshow": {
     "slide_type": "fragment"
    }
   },
   "outputs": [],
   "source": [
    "print(\"Scanning for all readings:\")\n",
    "partial_rows = table.read_rows()\n",
    "\n",
    "for row in partial_rows:\n",
    "    cell = row.cells[column_family_id][column][0]\n",
    "    print(cell.value.decode(\"utf-8\"))"
   ]
  },
  {
   "cell_type": "markdown",
   "metadata": {
    "slideshow": {
     "slide_type": "slide"
    }
   },
   "source": [
    "<h2>Delete Tables</h2>"
   ]
  },
  {
   "cell_type": "code",
   "execution_count": null,
   "metadata": {
    "slideshow": {
     "slide_type": "fragment"
    }
   },
   "outputs": [],
   "source": [
    "print(\"Deleting the {} table.\".format(table_id))\n",
    "table.delete()"
   ]
  },
  {
   "cell_type": "markdown",
   "metadata": {
    "slideshow": {
     "slide_type": "slide"
    }
   },
   "source": [
    "<h3>Read the Example for More Inforamtion <a href=\"https://cloud.google.com/bigtable/docs/samples-python-hello\">https://cloud.google.com/bigtable/docs/samples-python-hello</a></h3>"
   ]
  },
  {
   "cell_type": "markdown",
   "metadata": {
    "slideshow": {
     "slide_type": "slide"
    }
   },
   "source": [
    "<h2>BigTable Cloud Execution</h2>"
   ]
  },
  {
   "cell_type": "markdown",
   "metadata": {
    "slideshow": {
     "slide_type": "fragment"
    }
   },
   "source": [
    "To connect your Python code from your local machine to use Google BigTable on the cloud, conduct the following activities:\n",
    "<ul>\n",
    "<li>1. Generate Credentials JSON file according to the steps listed below</li>\n",
    "    <li>2. Set environment variable: <b>GOOGLE_APPLICATION_CREDENTIALS</b> with the value as your absolute path to your credentials JSON file (e.g., /Users/xyz/credentials.json)</li>\n",
    "     </ul>"
   ]
  },
  {
   "cell_type": "markdown",
   "metadata": {
    "slideshow": {
     "slide_type": "fragment"
    }
   },
   "source": [
    "<center><img src=\"https://www.andrew.cmu.edu/user/mfarag/static/create_credentials_json.png\"/></center>"
   ]
  },
  {
   "cell_type": "markdown",
   "metadata": {
    "slideshow": {
     "slide_type": "slide"
    }
   },
   "source": [
    "<ul>\n",
    "    <li>3. Delete Your <b>BIGTABLE_EMULATOR_HOST</b> environment variable and restart your notebook</li>\n",
    "    <li>4. Enable the Billing on Your GCP Account</li>\n",
    "<li>5. Ensure you have a project created</li>\n",
    "<li>6. Enable the BigTable API and Create BigTable Instance from <a href=\"https://console.cloud.google.com/bigtable/instances\">https://console.cloud.google.com/bigtable/instances</a></li>\n",
    "    <li>7. Create BigTable Instance on GCP and write down the instance ID</li>\n",
    "    <li>8. Update your project ID and Instance ID in the code.</li>\n",
    "     </ul>"
   ]
  },
  {
   "cell_type": "markdown",
   "metadata": {
    "slideshow": {
     "slide_type": "slide"
    }
   },
   "source": [
    "<center><img src=\"https://www.andrew.cmu.edu/user/mfarag/static/bigTable_invalid_use_cases.png\"/></center>"
   ]
  },
  {
   "cell_type": "markdown",
   "metadata": {
    "slideshow": {
     "slide_type": "slide"
    }
   },
   "source": [
    "<center><img src=\"https://www.andrew.cmu.edu/user/mfarag/static/bigTable_valid_use_cases.png\"/></center>"
   ]
  },
  {
   "cell_type": "markdown",
   "metadata": {
    "slideshow": {
     "slide_type": "slide"
    }
   },
   "source": [
    "<h2>BigTable Application Example</h2>"
   ]
  },
  {
   "cell_type": "markdown",
   "metadata": {
    "slideshow": {
     "slide_type": "fragment"
    }
   },
   "source": [
    "<center><img src=\"https://www.andrew.cmu.edu/user/mfarag/static/nosql_in_big_app.png\"/></center>"
   ]
  },
  {
   "cell_type": "markdown",
   "metadata": {
    "slideshow": {
     "slide_type": "slide"
    }
   },
   "source": [
    "<h1>Optional Content - Not Included in Exam - AWS DynamoDB</h1>"
   ]
  },
  {
   "cell_type": "markdown",
   "metadata": {
    "slideshow": {
     "slide_type": "slide"
    }
   },
   "source": [
    "<h2>Access DynamoDB</h2>"
   ]
  },
  {
   "cell_type": "markdown",
   "metadata": {
    "slideshow": {
     "slide_type": "fragment"
    }
   },
   "source": [
    "In most cases, you don’t have to install DynamoDB or maintain it. <b>You can sign up for an AWS account, create a DynamoDB table, and just go. Alternatively, you can use it on Docker for demonstration purposes.</b> In general, DynamoDB does require some operations-style thinking and preparation, but you’ll never need to provide it an XML configuration or set up a complex cluster like other NoSQL databases. Due to its massive capabilities, <a href=\"https://www.duolingo.com/\">Duolingo</a> is using DynamoDB for its day-to-day operations. "
   ]
  },
  {
   "cell_type": "markdown",
   "metadata": {
    "slideshow": {
     "slide_type": "slide"
    }
   },
   "source": [
    "<center><img src=\"http://stat.cmu.edu/~mfarag/652/lectures/l10/duolingo.png\"/></center>"
   ]
  },
  {
   "cell_type": "markdown",
   "metadata": {
    "slideshow": {
     "slide_type": "slide"
    }
   },
   "source": [
    "<div style=\"background-color:AliceBlue\"><br/><b>Let's create our first Shopping Cart in DynamoDB via Python<br/><br/></b></div>"
   ]
  },
  {
   "cell_type": "markdown",
   "metadata": {
    "slideshow": {
     "slide_type": "fragment"
    }
   },
   "source": [
    "We will use <b>Boto</b> Python library to write Python code that communicates with DynamoDB. Boto supports all current AWS cloud services, including Elastic Compute Cloud, DynamoDB, AWS Config, CloudWatch and Simple Storage Service."
   ]
  },
  {
   "cell_type": "code",
   "execution_count": null,
   "metadata": {
    "scrolled": false,
    "slideshow": {
     "slide_type": "slide"
    }
   },
   "outputs": [],
   "source": [
    "# install Boto3 to your System\n",
    "# for some of you, you may need to replace pip with pip3\n",
    "!pip install boto3"
   ]
  },
  {
   "cell_type": "markdown",
   "metadata": {
    "slideshow": {
     "slide_type": "slide"
    }
   },
   "source": [
    "<h2>Run DynamoDB Locally on Docker</h2>"
   ]
  },
  {
   "cell_type": "markdown",
   "metadata": {
    "slideshow": {
     "slide_type": "fragment"
    }
   },
   "source": [
    "To run Docker Locally, you need to pull DynamoDB Container and run it. More information can be found <a href=\"https://hub.docker.com/r/amazon/dynamodb-local\">here</a>\n",
    "\n",
    "<ul>\n",
    "    <li>Run the docker pull command for the image: <b>docker pull amazon/dynamodb-local</b></li>\n",
    "    <li>Execute the docker run command: <b>docker run -p 8000:8000 amazon/dynamodb-local</b></li>\n",
    "    <li>In your terminal, run <b>docker container ls</b> or check your docker desktop to see if the container is running</li>\n",
    "</ul>"
   ]
  },
  {
   "cell_type": "code",
   "execution_count": null,
   "metadata": {
    "slideshow": {
     "slide_type": "slide"
    }
   },
   "outputs": [],
   "source": [
    "print('creating dynamodb resource')\n",
    "import boto3\n",
    "dynamodb = boto3.resource(\n",
    "    'dynamodb',\n",
    "    endpoint_url='http://localhost:8000', ### This is the URL for my DynamoDB docker container\n",
    "    region_name='us-east-1', ### This is a bit ugly but you have to specify valid AWS region for this code to work!\n",
    "    aws_access_key_id='accesskey',\n",
    "    aws_secret_access_key='secretkey',\n",
    "    verify=False)\n",
    "\n",
    "print ('got resource:', dynamodb) ## This is a confirmation that I'm able to connect to DynamoDB without problems "
   ]
  },
  {
   "cell_type": "code",
   "execution_count": null,
   "metadata": {
    "scrolled": true,
    "slideshow": {
     "slide_type": "slide"
    }
   },
   "outputs": [],
   "source": [
    "table = dynamodb.Table('ShoppingCart')\n",
    "print(table)\n",
    "# delete the table if it exists\n",
    "try:\n",
    "    table.delete()\n",
    "except Exception as e:\n",
    "    print(e)\n",
    "\n",
    "\n",
    "### Let's see if we can create the table or retrieve it if it is already created.\n",
    "try:\n",
    "    result = dynamodb.create_table( ### Now, I'm creating the table\n",
    "        TableName='ShoppingCart',\n",
    "        KeySchema=[\n",
    "            {\n",
    "                'AttributeName': 'ItemName',\n",
    "                'KeyType': 'HASH'  # Partition key\n",
    "            }\n",
    "        ],\n",
    "        AttributeDefinitions=[\n",
    "            {\n",
    "                'AttributeName': 'ItemName',\n",
    "                'AttributeType': 'S'\n",
    "            }\n",
    "        ],\n",
    "        ProvisionedThroughput={\n",
    "            'ReadCapacityUnits': 1,\n",
    "            'WriteCapacityUnits': 1\n",
    "        }\n",
    "    )\n",
    "    print('Created table:', result)\n",
    "except: \n",
    "    print('There is a problem with the table creation. Try again later!')\n",
    "\n",
    "table = dynamodb.Table('ShoppingCart')\n",
    "print('got table:', table)"
   ]
  },
  {
   "cell_type": "markdown",
   "metadata": {
    "slideshow": {
     "slide_type": "slide"
    }
   },
   "source": [
    "<h3> DynamoDB’s Almost Schemaless Data Model</h3>"
   ]
  },
  {
   "cell_type": "markdown",
   "metadata": {
    "slideshow": {
     "slide_type": "fragment"
    }
   },
   "source": [
    "In the Shopping Cart example, it seemed like the ShoppingCart table is being created with a strict schema according to which items in the table can have only an ItemName attribute. But DynamoDB doesn’t work that way. Whenever you create a table, you only have to define attributes that function as keys (sometimes referred to as key attributes)."
   ]
  },
  {
   "cell_type": "markdown",
   "metadata": {
    "slideshow": {
     "slide_type": "slide"
    }
   },
   "source": [
    "So we could store items in our shopping cart table that have any number of other properties (brand name, year manufactured, ISBN, whatever) if we wanted to, without having to specify those attributes when we create the table. The only restriction on our ShoppingCart table is that each item must have an ItemName."
   ]
  },
  {
   "cell_type": "markdown",
   "metadata": {
    "slideshow": {
     "slide_type": "slide"
    }
   },
   "source": [
    "<b>Difference between indexes in MongoDB and DynamoDB</b>"
   ]
  },
  {
   "cell_type": "markdown",
   "metadata": {
    "slideshow": {
     "slide_type": "fragment"
    }
   },
   "source": [
    "But there’s a catch here: although schema restraints apply only to key attributes, you can’t query for attributes that aren’t specified as keys or indexes when you create the table (more on indexes later). So if you started storing items with a brand name attribute in the ShoppingCart table, you wouldn’t be able to discover items by brand name. If you wanted to do that, you’d have to create a new table and add the brand name as a key or index. And so even though schema design doesn’t force you into a straitjacket, you should make that decision very carefully."
   ]
  },
  {
   "cell_type": "markdown",
   "metadata": {
    "slideshow": {
     "slide_type": "slide"
    }
   },
   "source": [
    "This is in contrast to a database like <b>Mongo</b>, which is schemaless but allows you to query for whatever fields you want at any time."
   ]
  },
  {
   "cell_type": "markdown",
   "metadata": {
    "slideshow": {
     "slide_type": "fragment"
    }
   },
   "source": [
    "<div style=\"background-color:AliceBlue\"><br/><b>Notice that when we add a new item to our table, we can add as many additional attributes as we want - and we need to specify our primary key item (ItemName)-.<br/><br/></b></div>"
   ]
  },
  {
   "cell_type": "code",
   "execution_count": null,
   "metadata": {
    "scrolled": false,
    "slideshow": {
     "slide_type": "slide"
    }
   },
   "outputs": [],
   "source": [
    "table = dynamodb.Table('ShoppingCart')\n",
    "response = table.put_item(\n",
    "    Item={\n",
    "        'ItemName': 'Dog Food',\n",
    "        'Price': 32,\n",
    "        'Store': 'Giant Eagle - North Shore'\n",
    "    }\n",
    ")\n",
    "\n",
    "print(\"Put Item succeeded\")\n",
    "print(response)"
   ]
  },
  {
   "cell_type": "code",
   "execution_count": null,
   "metadata": {},
   "outputs": [],
   "source": [
    "table.put_item(\n",
    "    Item={\n",
    "        'ItemName': 'Dog Food',\n",
    "        'Price': 40,\n",
    "    }\n",
    ")"
   ]
  },
  {
   "cell_type": "markdown",
   "metadata": {
    "slideshow": {
     "slide_type": "slide"
    }
   },
   "source": [
    "<h3>Column Data Types</h3>"
   ]
  },
  {
   "cell_type": "markdown",
   "metadata": {
    "slideshow": {
     "slide_type": "slide"
    }
   },
   "source": [
    "In <b>DynamoDB</b>, you can add a single value (or list of values) in every field. If you are adding single values, then you can use the following types:"
   ]
  },
  {
   "cell_type": "markdown",
   "metadata": {
    "slideshow": {
     "slide_type": "fragment"
    }
   },
   "source": [
    "<center><img src=\"http://stat.cmu.edu/~mfarag/652/lectures/l10/dynamo-scalar.png\"/></center>"
   ]
  },
  {
   "cell_type": "markdown",
   "metadata": {
    "slideshow": {
     "slide_type": "slide"
    }
   },
   "source": [
    "While if you want to add lists in your attributes directly, you can use the following datatypes:"
   ]
  },
  {
   "cell_type": "markdown",
   "metadata": {
    "slideshow": {
     "slide_type": "fragment"
    }
   },
   "source": [
    "<center><img src=\"http://stat.cmu.edu/~mfarag/652/lectures/l10/dynamo-set.png\"/></center>"
   ]
  },
  {
   "cell_type": "markdown",
   "metadata": {
    "slideshow": {
     "slide_type": "slide"
    }
   },
   "source": [
    "<h3>JSON in DynamoDB</h3>"
   ]
  },
  {
   "cell_type": "markdown",
   "metadata": {
    "slideshow": {
     "slide_type": "slide"
    }
   },
   "source": [
    "JSON is the most common format of communication between applications on the web. Take a look at the following JSON:"
   ]
  },
  {
   "cell_type": "markdown",
   "metadata": {
    "slideshow": {
     "slide_type": "fragment"
    }
   },
   "source": [
    "<center><img src=\"http://stat.cmu.edu/~mfarag/652/lectures/l10/complex_json_example.jpg\"/></center>"
   ]
  },
  {
   "cell_type": "markdown",
   "metadata": {
    "slideshow": {
     "slide_type": "slide"
    }
   },
   "source": [
    "<div style=\"background-color:AliceBlue\"><b><br/>If we were to fit this JSON into Postgres, how many tables would we need?<br/><br/></b></div>"
   ]
  },
  {
   "cell_type": "markdown",
   "metadata": {
    "slideshow": {
     "slide_type": "slide"
    }
   },
   "source": [
    "<div style=\"background-color:AliceBlue\"><b>Let's see how we can add new item for Tomato Sauce (and don't forget to include the price).</b></div>"
   ]
  },
  {
   "cell_type": "code",
   "execution_count": null,
   "metadata": {
    "slideshow": {
     "slide_type": "fragment"
    }
   },
   "outputs": [],
   "source": [
    "import json\n",
    "\n",
    "datadict = json.loads('{\"ItemName\": \"Tomato Sauce\", \"Price\": 6, \"Expiration Date\": {\"N\": \"2023\"},\"Producer\": {\"Name\": \"Heinz\"}}')\n",
    "table = dynamodb.Table('ShoppingCart')\n",
    "response = table.put_item(Item = datadict)\n",
    "print(response)"
   ]
  },
  {
   "cell_type": "markdown",
   "metadata": {
    "slideshow": {
     "slide_type": "slide"
    }
   },
   "source": [
    "<br/>Now, let's do some <b>CRUD</b> operations on the DynamoDB table."
   ]
  },
  {
   "cell_type": "markdown",
   "metadata": {
    "slideshow": {
     "slide_type": "slide"
    }
   },
   "source": [
    "<h3>CRUD Operations in DynamoDB</h3>"
   ]
  },
  {
   "cell_type": "markdown",
   "metadata": {
    "slideshow": {
     "slide_type": "fragment"
    }
   },
   "source": [
    "DynamoDB lets you search for your shopping cart items. If you are searching for a key, you can use <b>get_item()</b>. For example, let's search for Tomato Sauce in the shopping cart. "
   ]
  },
  {
   "cell_type": "code",
   "execution_count": null,
   "metadata": {
    "scrolled": true,
    "slideshow": {
     "slide_type": "slide"
    }
   },
   "outputs": [],
   "source": [
    "from boto3.dynamodb.conditions import Key\n",
    "\n",
    "table = dynamodb.Table('ShoppingCart')\n",
    "def search_item_name(name):\n",
    "    try:\n",
    "        response = table.get_item(Key={'ItemName': name})\n",
    "    except ClientError as e:\n",
    "        print(e.response['Error']['Message'])\n",
    "    else:\n",
    "        return response['Item']\n",
    "print (search_item_name('Tomato Sauce'))"
   ]
  },
  {
   "cell_type": "markdown",
   "metadata": {
    "slideshow": {
     "slide_type": "slide"
    }
   },
   "source": [
    "You could alternatively use <b> query</b> function for this purpose."
   ]
  },
  {
   "cell_type": "code",
   "execution_count": null,
   "metadata": {
    "slideshow": {
     "slide_type": "fragment"
    }
   },
   "outputs": [],
   "source": [
    "from boto3.dynamodb.conditions import Key\n",
    "\n",
    "table = dynamodb.Table('ShoppingCart')\n",
    "def search_item_name(name):\n",
    "    response = table.query(\n",
    "        KeyConditionExpression=Key('ItemName').eq(name)\n",
    "    )\n",
    "    return response['Items']\n",
    "print (search_item_name('Tomato Sauce'))"
   ]
  },
  {
   "cell_type": "markdown",
   "metadata": {
    "slideshow": {
     "slide_type": "slide"
    }
   },
   "source": [
    "<div style=\"background-color:AliceBlue\">&#9432; Note that every time you <b>put</b> an item with the same key in the table, it doesn't create a new record. Rather, it just updates the existing record with the updated values. Go back to our Tomato Sauce insertion example in the previous example and change the expiration date and search for Tomato Sauce again. Notice the difference!. If you were add an item with the same primary key in RDBMS, you would have received an error right away!</div>"
   ]
  },
  {
   "cell_type": "markdown",
   "metadata": {
    "slideshow": {
     "slide_type": "slide"
    }
   },
   "source": [
    "Now if you would like to search for non-key element, you can use <b>FilterExpression</b> with <b>scan operation</b> as in the following:"
   ]
  },
  {
   "cell_type": "code",
   "execution_count": null,
   "metadata": {
    "slideshow": {
     "slide_type": "fragment"
    }
   },
   "outputs": [],
   "source": [
    "from boto3.dynamodb.conditions import Attr\n",
    "\n",
    "def scan_price_on_items(price):\n",
    "    scan_kwargs = {\n",
    "        'FilterExpression': Attr('Price').eq(price)\n",
    "    }\n",
    "    response = table.scan(**scan_kwargs)\n",
    "    print(response.get('Items', []))\n",
    "\n",
    "scan_price_on_items(6)"
   ]
  },
  {
   "cell_type": "markdown",
   "metadata": {
    "slideshow": {
     "slide_type": "slide"
    }
   },
   "source": [
    "Also, you can retrieve all the records in one table using <b>scan</b> operation. Take the following example:"
   ]
  },
  {
   "cell_type": "code",
   "execution_count": null,
   "metadata": {
    "slideshow": {
     "slide_type": "fragment"
    }
   },
   "outputs": [],
   "source": [
    "response = table.scan()\n",
    "print(response.get('Items', []))"
   ]
  },
  {
   "cell_type": "markdown",
   "metadata": {
    "slideshow": {
     "slide_type": "slide"
    }
   },
   "source": [
    "Finally, you can delete an item from your ShoppingCart data store using <b>delete_item</b> function. Take the following example to delete 'Tomato Sauce'"
   ]
  },
  {
   "cell_type": "code",
   "execution_count": null,
   "metadata": {
    "slideshow": {
     "slide_type": "fragment"
    }
   },
   "outputs": [],
   "source": [
    "table = dynamodb.Table('ShoppingCart')\n",
    "def delete_item(name):\n",
    "    response = table.delete_item(Key={'ItemName': name})\n",
    "    print(response)\n",
    "print (delete_item('Tomato Sauce'))"
   ]
  },
  {
   "cell_type": "markdown",
   "metadata": {
    "slideshow": {
     "slide_type": "slide"
    }
   },
   "source": [
    "<b>Note:</b> DynamoDB retrieves large data in pages. In order to know if you returned all the data, check LastEvaluatedKey.<br/>\n",
    "    \n",
    "The primary key of the item where the operation stopped, inclusive of the previous result set. Use this value to start a new operation, excluding this value in the new request.<br/>\n",
    "\n",
    "If LastEvaluatedKey is empty, then the \"last page\" of results has been processed and there is no more data to be retrieved. For more information, check this page: <a href=\"https://docs.aws.amazon.com/amazondynamodb/latest/APIReference/API_Query.html\">https://docs.aws.amazon.com/amazondynamodb/latest/APIReference/API_Query.html</a>\n",
    "\n"
   ]
  }
 ],
 "metadata": {
  "celltoolbar": "Slideshow",
  "kernelspec": {
   "display_name": "Python 3 (ipykernel)",
   "language": "python",
   "name": "python3"
  },
  "language_info": {
   "codemirror_mode": {
    "name": "ipython",
    "version": 3
   },
   "file_extension": ".py",
   "mimetype": "text/x-python",
   "name": "python",
   "nbconvert_exporter": "python",
   "pygments_lexer": "ipython3",
   "version": "3.9.17"
  }
 },
 "nbformat": 4,
 "nbformat_minor": 4
}
